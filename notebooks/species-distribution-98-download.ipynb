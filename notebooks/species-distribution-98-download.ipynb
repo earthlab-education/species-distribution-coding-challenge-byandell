{
  "cells": [
    {
      "cell_type": "markdown",
      "id": "19653740-42cf-45a4-b1f0-8c462503e2ff",
      "metadata": {},
      "source": [
        "# Access locations and times of Veery encounters\n",
        "\n",
        "For this challenge, you will use a database called the [Global\n",
        "Biodiversity Information Facility (GBIF)](https://www.gbif.org/). GBIF\n",
        "is compiled from species observation data all over the world, and\n",
        "includes everything from museum specimens to photos taken by citizen\n",
        "scientists in their backyards.\n",
        "\n",
        "<link rel=\"stylesheet\" type=\"text/css\" href=\"./assets/styles.css\"><div class=\"callout callout-style-default callout-titled callout-task\"><div class=\"callout-header\"><div class=\"callout-icon-container\"><i class=\"callout-icon\"></i></div><div class=\"callout-title-container flex-fill\">Try It: Explore GBIF</div></div><div class=\"callout-body-container callout-body\"><p>Before your get started, go to the <a\n",
        "href=\"https://www.gbif.org/occurrence/search\">GBIF occurrences search\n",
        "page</a> and explore the data.</p></div></div>\n",
        "\n",
        "> **Contribute to open data**\n",
        ">\n",
        "> You can get your own observations added to GBIF using\n",
        "> [iNaturalist](https://www.inaturalist.org/)!\n",
        "\n",
        "### Set up your code to prepare for download\n",
        "\n",
        "We will be getting data from a source called [GBIF (Global Biodiversity\n",
        "Information Facility)](https://www.gbif.org/). We need a package called\n",
        "`pygbif` to access the data, which may not be included in your\n",
        "environment. Install it by running the cell below:"
      ]
    },
    {
      "cell_type": "code",
      "execution_count": 4,
      "id": "75e6717e",
      "metadata": {},
      "outputs": [
        {
          "name": "stdout",
          "output_type": "stream",
          "text": [
            "Requirement already satisfied: pygbif in /opt/conda/lib/python3.11/site-packages (0.6.4)\n",
            "Requirement already satisfied: requests>2.7 in /opt/conda/lib/python3.11/site-packages (from pygbif) (2.32.3)\n",
            "Requirement already satisfied: requests-cache in /opt/conda/lib/python3.11/site-packages (from pygbif) (1.2.1)\n",
            "Requirement already satisfied: geojson-rewind in /opt/conda/lib/python3.11/site-packages (from pygbif) (1.1.0)\n",
            "Requirement already satisfied: geomet in /opt/conda/lib/python3.11/site-packages (from pygbif) (1.1.0)\n",
            "Requirement already satisfied: appdirs>=1.4.3 in /opt/conda/lib/python3.11/site-packages (from pygbif) (1.4.4)\n",
            "Requirement already satisfied: matplotlib in /opt/conda/lib/python3.11/site-packages (from pygbif) (3.9.2)\n",
            "Requirement already satisfied: charset-normalizer<4,>=2 in /opt/conda/lib/python3.11/site-packages (from requests>2.7->pygbif) (3.3.2)\n",
            "Requirement already satisfied: idna<4,>=2.5 in /opt/conda/lib/python3.11/site-packages (from requests>2.7->pygbif) (3.10)\n",
            "Requirement already satisfied: urllib3<3,>=1.21.1 in /opt/conda/lib/python3.11/site-packages (from requests>2.7->pygbif) (2.2.3)\n",
            "Requirement already satisfied: certifi>=2017.4.17 in /opt/conda/lib/python3.11/site-packages (from requests>2.7->pygbif) (2024.8.30)\n",
            "Requirement already satisfied: click in /opt/conda/lib/python3.11/site-packages (from geomet->pygbif) (8.1.7)\n",
            "Requirement already satisfied: contourpy>=1.0.1 in /opt/conda/lib/python3.11/site-packages (from matplotlib->pygbif) (1.3.0)\n",
            "Requirement already satisfied: cycler>=0.10 in /opt/conda/lib/python3.11/site-packages (from matplotlib->pygbif) (0.12.1)\n",
            "Requirement already satisfied: fonttools>=4.22.0 in /opt/conda/lib/python3.11/site-packages (from matplotlib->pygbif) (4.54.1)\n",
            "Requirement already satisfied: kiwisolver>=1.3.1 in /opt/conda/lib/python3.11/site-packages (from matplotlib->pygbif) (1.4.7)\n",
            "Requirement already satisfied: numpy>=1.23 in /opt/conda/lib/python3.11/site-packages (from matplotlib->pygbif) (2.0.2)\n",
            "Requirement already satisfied: packaging>=20.0 in /opt/conda/lib/python3.11/site-packages (from matplotlib->pygbif) (24.1)\n",
            "Requirement already satisfied: pillow>=8 in /opt/conda/lib/python3.11/site-packages (from matplotlib->pygbif) (10.4.0)\n",
            "Requirement already satisfied: pyparsing>=2.3.1 in /opt/conda/lib/python3.11/site-packages (from matplotlib->pygbif) (3.1.4)\n",
            "Requirement already satisfied: python-dateutil>=2.7 in /opt/conda/lib/python3.11/site-packages (from matplotlib->pygbif) (2.9.0)\n",
            "Requirement already satisfied: attrs>=21.2 in /opt/conda/lib/python3.11/site-packages (from requests-cache->pygbif) (24.2.0)\n",
            "Requirement already satisfied: cattrs>=22.2 in /opt/conda/lib/python3.11/site-packages (from requests-cache->pygbif) (24.1.2)\n",
            "Requirement already satisfied: platformdirs>=2.5 in /opt/conda/lib/python3.11/site-packages (from requests-cache->pygbif) (4.3.6)\n",
            "Requirement already satisfied: url-normalize>=1.4 in /opt/conda/lib/python3.11/site-packages (from requests-cache->pygbif) (1.4.3)\n",
            "Requirement already satisfied: six>=1.5 in /opt/conda/lib/python3.11/site-packages (from python-dateutil>=2.7->matplotlib->pygbif) (1.16.0)\n"
          ]
        }
      ],
      "source": [
        "%%bash\n",
        "pip install pygbif"
      ]
    },
    {
      "cell_type": "code",
      "execution_count": 5,
      "id": "2f9ae172",
      "metadata": {},
      "outputs": [
        {
          "name": "stdout",
          "output_type": "stream",
          "text": [
            "# packages in environment at /opt/conda:\n",
            "#\n",
            "# Name                    Version                   Build  Channel\n",
            "pygbif                    0.6.4                    pypi_0    pypi\n",
            "\n",
            "Note: you may need to restart the kernel to use updated packages.\n"
          ]
        }
      ],
      "source": [
        "%conda list pygbif"
      ]
    },
    {
      "cell_type": "markdown",
      "id": "c91260a6-877a-4a6a-825b-6bdf9dcb0a6a",
      "metadata": {},
      "source": [
        "<link rel=\"stylesheet\" type=\"text/css\" href=\"./assets/styles.css\"><div class=\"callout callout-style-default callout-titled callout-task\"><div class=\"callout-header\"><div class=\"callout-icon-container\"><i class=\"callout-icon\"></i></div><div class=\"callout-title-container flex-fill\">Try It: Import packages</div></div><div class=\"callout-body-container callout-body\"><p>In the imports cell, we’ve included some packages that you will need.\n",
        "Add imports for packages that will help you:</p>\n",
        "<ol type=\"1\">\n",
        "<li>Work with reproducible file paths</li>\n",
        "<li>Work with tabular data</li>\n",
        "</ol></div></div>"
      ]
    },
    {
      "cell_type": "code",
      "execution_count": 7,
      "id": "601c7278",
      "metadata": {
        "highlight": true
      },
      "outputs": [],
      "source": [
        "import time\n",
        "import zipfile\n",
        "from getpass import getpass\n",
        "from glob import glob\n",
        "\n",
        "import os\n",
        "import pathlib\n",
        "\n",
        "import geopandas as gpd\n",
        "import pandas as pd\n",
        "\n",
        "import pygbif.occurrences as occ\n",
        "import pygbif.species as species"
      ]
    },
    {
      "cell_type": "code",
      "execution_count": 9,
      "id": "9cf408e1",
      "metadata": {
        "highlight": true
      },
      "outputs": [
        {
          "data": {
            "text/plain": [
              "'/home/jovyan/earth-analytics/data/species/gbif_veery'"
            ]
          },
          "execution_count": 9,
          "metadata": {},
          "output_type": "execute_result"
        }
      ],
      "source": [
        "# Create data directory in the home folder\n",
        "data_dir = os.path.join(\n",
        "    # Home directory\n",
        "    pathlib.Path.home(),\n",
        "    # Earth analytics data directory\n",
        "    'earth-analytics',\n",
        "    'data',\n",
        "    # Project directory\n",
        "    'species',\n",
        ")\n",
        "os.makedirs(data_dir, exist_ok=True)\n",
        "\n",
        "# Define the directory name for GBIF data\n",
        "gbif_dir = os.path.join(data_dir, 'gbif_grus')\n",
        "gbif_dir"
      ]
    },
    {
      "cell_type": "markdown",
      "id": "2583a48e-621d-42a3-83ca-503c05db41bc",
      "metadata": {},
      "source": [
        ":::\n",
        "\n",
        "### Register and log in to GBIF\n",
        "\n",
        "You will need a [GBIF account](https://www.gbif.org/) to complete this\n",
        "challenge. You can use your GitHub account to authenticate with GBIF.\n",
        "Then, run the following code to save your credentials on your computer.\n",
        "\n",
        "> **Warning**\n",
        ">\n",
        "> Your email address **must** match the email you used to sign up for\n",
        "> GBIF!\n",
        "\n",
        "> **Tip**\n",
        ">\n",
        "> If you accidentally enter your credentials wrong, you can set\n",
        "> `reset_credentials=True` instead of `reset_credentials=False`."
      ]
    },
    {
      "cell_type": "code",
      "execution_count": 16,
      "id": "989f737e",
      "metadata": {},
      "outputs": [],
      "source": [
        "reset_credentials = False\n",
        "# GBIF needs a username, password, and email\n",
        "credentials = dict(\n",
        "    GBIF_USER=(input, 'username'),\n",
        "    GBIF_PWD=(getpass, 'password'),\n",
        "    GBIF_EMAIL=(input, 'email'),\n",
        ")\n",
        "for env_variable, (prompt_func, prompt_text) in credentials.items():\n",
        "    # Delete credential from environment if requested\n",
        "    if reset_credentials and (env_variable in os.environ):\n",
        "        os.environ.pop(env_variable)\n",
        "    # Ask for credential and save to environment\n",
        "    if not env_variable in os.environ:\n",
        "        os.environ[env_variable] = prompt_func(prompt_text)"
      ]
    },
    {
      "cell_type": "markdown",
      "id": "8b3d472f-2079-4eb9-9454-6ee95c40c2e7",
      "metadata": {},
      "source": [
        "### Get the species key\n",
        "\n",
        "> ** Your task**\n",
        ">\n",
        "> 1.  Replace the `species_name` with the name of the species you want\n",
        ">     to look up\n",
        "> 2.  Run the code to get the species key"
      ]
    },
    {
      "cell_type": "code",
      "execution_count": 18,
      "id": "90a15d5c",
      "metadata": {
        "highlight": true
      },
      "outputs": [
        {
          "data": {
            "text/plain": [
              "('Antigone canadensis', 2474953)"
            ]
          },
          "execution_count": 18,
          "metadata": {},
          "output_type": "execute_result"
        }
      ],
      "source": [
        "# Query species\n",
        "species_info = species.name_lookup('grus canadensis', rank='SPECIES')\n",
        "\n",
        "# Get the first result\n",
        "first_result = species_info['results'][0]\n",
        "\n",
        "# Get the species key (nubKey)\n",
        "species_key = first_result['nubKey']\n",
        "\n",
        "# Check the result\n",
        "first_result['species'], species_key"
      ]
    },
    {
      "cell_type": "code",
      "execution_count": 19,
      "id": "5c8e9a77",
      "metadata": {},
      "outputs": [
        {
          "data": {
            "text/plain": [
              "2474953"
            ]
          },
          "execution_count": 19,
          "metadata": {},
          "output_type": "execute_result"
        }
      ],
      "source": [
        "species_key"
      ]
    },
    {
      "cell_type": "markdown",
      "id": "28bfdb8b-fb88-4c48-befd-ca078f5e2c0d",
      "metadata": {},
      "source": [
        "### Download data from GBIF\n",
        "\n",
        "::: {.callout-task title=“Submit a request to GBIF”\n",
        "\n",
        "1.  Replace `csv_file_pattern` with a string that will match **any**\n",
        "    `.csv` file when used in the `glob` function. HINT: the character\n",
        "    `*` represents any number of any values except the file separator\n",
        "    (e.g. `/`)\n",
        "\n",
        "2.  Add parameters to the GBIF download function, `occ.download()` to\n",
        "    limit your query to:\n",
        "\n",
        "    -   observations\n",
        "    -   from 2023\n",
        "    -   with spatial coordinates.\n",
        "\n",
        "3.  Then, run the download. **This can take a few minutes**. :::\n",
        "\n",
        "    -   Can check progress at <https://www.gbif.org/user/download>."
      ]
    },
    {
      "cell_type": "code",
      "execution_count": 30,
      "id": "0bdc80c5",
      "metadata": {
        "highlight": true
      },
      "outputs": [
        {
          "name": "stderr",
          "output_type": "stream",
          "text": [
            "INFO:Your download key is 0020917-241007104925546\n",
            "INFO:Download file size: 33104101 bytes\n",
            "INFO:On disk at /home/jovyan/earth-analytics/data/species/0020917-241007104925546.zip\n"
          ]
        }
      ],
      "source": [
        "# Only download once\n",
        "gbif_pattern = os.path.join(gbif_dir, '*.csv')\n",
        "if not glob(gbif_pattern):\n",
        "    # Only submit one request\n",
        "    if not 'GBIF_DOWNLOAD_KEY' in os.environ:\n",
        "        # Submit query to GBIF\n",
        "        gbif_query = occ.download([\n",
        "            \"speciesKey = 2474953\",\n",
        "            \"hasCoordinate = TRUE\",\n",
        "            \"year = 2023\",\n",
        "        ])\n",
        "        os.environ['GBIF_DOWNLOAD_KEY'] = gbif_query[0]\n",
        "\n",
        "    # Wait for the download to build\n",
        "    download_key = os.environ['GBIF_DOWNLOAD_KEY']\n",
        "    wait = occ.download_meta(download_key)['status']\n",
        "    while not wait=='SUCCEEDED':\n",
        "        wait = occ.download_meta(download_key)['status']\n",
        "        time.sleep(5)\n",
        "\n",
        "    # Download GBIF data\n",
        "    download_info = occ.download_get(\n",
        "        os.environ['GBIF_DOWNLOAD_KEY'], \n",
        "        path=data_dir)\n",
        "\n",
        "    # Unzip GBIF data\n",
        "    with zipfile.ZipFile(download_info['path']) as download_zip:\n",
        "        download_zip.extractall(path=gbif_dir)\n",
        "\n",
        "# Find the extracted .csv file path (take the first result)\n",
        "gbif_path = glob(gbif_pattern)[0]"
      ]
    },
    {
      "cell_type": "markdown",
      "id": "33d2184b",
      "metadata": {},
      "source": [
        "download key is 0020917-241007104925546\n",
        "GBIF.org (17 October 2024) GBIF Occurrence Download https://doi.org/10.15468/dl.4d3k48"
      ]
    },
    {
      "cell_type": "code",
      "execution_count": 34,
      "id": "ed39bf25",
      "metadata": {},
      "outputs": [
        {
          "data": {
            "text/plain": [
              "['/home/jovyan/earth-analytics/data/species/gbif_veery/0020917-241007104925546.csv']"
            ]
          },
          "execution_count": 34,
          "metadata": {},
          "output_type": "execute_result"
        }
      ],
      "source": [
        "glob(gbif_pattern)"
      ]
    },
    {
      "cell_type": "markdown",
      "id": "90ed1038-74bd-4a87-a50f-1b0abc216277",
      "metadata": {},
      "source": [
        "### Load the GBIF data into Python\n",
        "\n",
        "<link rel=\"stylesheet\" type=\"text/css\" href=\"./assets/styles.css\"><div class=\"callout callout-style-default callout-titled callout-task\"><div class=\"callout-header\"><div class=\"callout-icon-container\"><i class=\"callout-icon\"></i></div><div class=\"callout-title-container flex-fill\">Try It: Load GBIF data</div></div><div class=\"callout-body-container callout-body\"><ol type=\"1\">\n",
        "<li>Look at the beginning of the file you downloaded using the code\n",
        "below. What do you think the <strong>delimiter</strong> is?</li>\n",
        "<li>Run the following code cell. What happens?</li>\n",
        "<li>Uncomment and modify the parameters of <code>pd.read_csv()</code>\n",
        "below until your data loads successfully and you have only the columns\n",
        "you want.</li>\n",
        "</ol></div></div>\n",
        "\n",
        "You can use the following code to look at the beginning of your file:"
      ]
    },
    {
      "cell_type": "code",
      "execution_count": 35,
      "id": "94999229",
      "metadata": {},
      "outputs": [
        {
          "name": "stdout",
          "output_type": "stream",
          "text": [
            "gbifID\tdatasetKey\toccurrenceID\tkingdom\tphylum\tclass\torder\tfamily\tgenus\tspecies\tinfraspecificEpithet\ttaxonRank\tscientificName\tverbatimScientificName\tverbatimScientificNameAuthorship\tcountryCode\tlocality\tstateProvince\toccurrenceStatus\tindividualCount\tpublishingOrgKey\tdecimalLatitude\tdecimalLongitude\tcoordinateUncertaintyInMeters\tcoordinatePrecision\televation\televationAccuracy\tdepth\tdepthAccuracy\teventDate\tday\tmonth\tyear\ttaxonKey\tspeciesKey\tbasisOfRecord\tinstitutionCode\tcollectionCode\tcatalogNumber\trecordNumber\tidentifiedBy\tdateIdentified\tlicense\trightsHolder\trecordedBy\ttypeStatus\testablishmentMeans\tlastInterpreted\tmediaType\tissue\n",
            "4706403804\t4fa7b334-ce0d-4e88-aaae-2e0c138d049e\tURN:catalog:CLO:EBIRD:OBS1656610368\tAnimalia\tChordata\tAves\tGruiformes\tGruidae\tGrus\tGrus canadensis\t\tSPECIES\tAntigone canadensis (Linnaeus, 1758)\tAntigone canadensis\t\tUS\tBabcock-Webb WMA\tFlorida\tPRESENT\t2\te2e717bf-551a-4917-bdc9-4fa0f342c530\t26.858265\t-81.94011\t\t\t\t\t\t\t2023-03-15\t15\t3\t2023\t9036008\t2474953\tHUMAN_OBSERVATION\tCLO\tEBIRD\tOBS1656610368\t\t\t\tCC_BY_4_0\t\tobsr144165\t\t\t2024-04-17T08:38:26.695Z\t\tCONTINENT_DERIVED_FROM_COORDINATES;TAXON_MATCH_TAXON_CONCEPT_ID_IGNORED\n"
          ]
        }
      ],
      "source": [
        "!head -n 2 $gbif_path "
      ]
    },
    {
      "cell_type": "code",
      "execution_count": 37,
      "id": "88e56065",
      "metadata": {
        "highlight": true
      },
      "outputs": [
        {
          "data": {
            "text/html": [
              "<div>\n",
              "<style scoped>\n",
              "    .dataframe tbody tr th:only-of-type {\n",
              "        vertical-align: middle;\n",
              "    }\n",
              "\n",
              "    .dataframe tbody tr th {\n",
              "        vertical-align: top;\n",
              "    }\n",
              "\n",
              "    .dataframe thead th {\n",
              "        text-align: right;\n",
              "    }\n",
              "</style>\n",
              "<table border=\"1\" class=\"dataframe\">\n",
              "  <thead>\n",
              "    <tr style=\"text-align: right;\">\n",
              "      <th></th>\n",
              "      <th>decimalLatitude</th>\n",
              "      <th>decimalLongitude</th>\n",
              "      <th>month</th>\n",
              "    </tr>\n",
              "    <tr>\n",
              "      <th>gbifID</th>\n",
              "      <th></th>\n",
              "      <th></th>\n",
              "      <th></th>\n",
              "    </tr>\n",
              "  </thead>\n",
              "  <tbody>\n",
              "    <tr>\n",
              "      <th>4706403804</th>\n",
              "      <td>26.858265</td>\n",
              "      <td>-81.940110</td>\n",
              "      <td>3</td>\n",
              "    </tr>\n",
              "    <tr>\n",
              "      <th>4719519747</th>\n",
              "      <td>28.352715</td>\n",
              "      <td>-81.624535</td>\n",
              "      <td>3</td>\n",
              "    </tr>\n",
              "    <tr>\n",
              "      <th>4809159900</th>\n",
              "      <td>41.948524</td>\n",
              "      <td>-82.523250</td>\n",
              "      <td>5</td>\n",
              "    </tr>\n",
              "    <tr>\n",
              "      <th>4815572130</th>\n",
              "      <td>27.819418</td>\n",
              "      <td>-80.513840</td>\n",
              "      <td>12</td>\n",
              "    </tr>\n",
              "    <tr>\n",
              "      <th>4634479511</th>\n",
              "      <td>43.560074</td>\n",
              "      <td>-88.601260</td>\n",
              "      <td>10</td>\n",
              "    </tr>\n",
              "  </tbody>\n",
              "</table>\n",
              "</div>"
            ],
            "text/plain": [
              "            decimalLatitude  decimalLongitude  month\n",
              "gbifID                                              \n",
              "4706403804        26.858265        -81.940110      3\n",
              "4719519747        28.352715        -81.624535      3\n",
              "4809159900        41.948524        -82.523250      5\n",
              "4815572130        27.819418        -80.513840     12\n",
              "4634479511        43.560074        -88.601260     10"
            ]
          },
          "execution_count": 37,
          "metadata": {},
          "output_type": "execute_result"
        }
      ],
      "source": [
        "# Load the GBIF data\n",
        "gbif_df = pd.read_csv(\n",
        "    gbif_path, \n",
        "    delimiter='\\t',\n",
        "    index_col='gbifID',\n",
        "    usecols=['gbifID', 'decimalLatitude', 'decimalLongitude', 'month'])\n",
        "gbif_df.head()"
      ]
    },
    {
      "cell_type": "code",
      "execution_count": 38,
      "id": "3cc189da",
      "metadata": {},
      "outputs": [
        {
          "name": "stdout",
          "output_type": "stream",
          "text": [
            "Stored 'gbif_path' (str)\n",
            "credentials\t data_dir\t download_info\t download_key\t download_zip\t env_variable\t first_result\t gbif_df\t gbif_dir\t \n",
            "gbif_path\t gbif_pattern\t gbif_query\t getpass\t glob\t gpd\t occ\t os\t pathlib\t \n",
            "pd\t prompt_func\t prompt_text\t reset_credentials\t species\t species_info\t species_key\t time\t wait\t \n",
            "zipfile\t \n"
          ]
        }
      ],
      "source": [
        "%store gbif_path\n",
        "%who"
      ]
    }
  ],
  "metadata": {
    "kernelspec": {
      "display_name": "base",
      "language": "python",
      "name": "python3"
    },
    "language_info": {
      "codemirror_mode": {
        "name": "ipython",
        "version": 3
      },
      "file_extension": ".py",
      "mimetype": "text/x-python",
      "name": "python",
      "nbconvert_exporter": "python",
      "pygments_lexer": "ipython3",
      "version": "3.11.6"
    }
  },
  "nbformat": 4,
  "nbformat_minor": 5
}
